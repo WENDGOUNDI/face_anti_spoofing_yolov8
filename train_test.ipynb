{
 "cells": [
  {
   "cell_type": "markdown",
   "id": "afc55335",
   "metadata": {},
   "source": [
    "# TRAIN"
   ]
  },
  {
   "cell_type": "code",
   "execution_count": 2,
   "id": "6ce6ca6d",
   "metadata": {},
   "outputs": [],
   "source": [
    "from ultralytics import YOLO\n",
    "import splitfolders"
   ]
  },
  {
   "cell_type": "code",
   "execution_count": 3,
   "id": "380e3240",
   "metadata": {},
   "outputs": [
    {
     "name": "stderr",
     "output_type": "stream",
     "text": [
      "Copying files: 8299 files [03:25, 40.36 files/s] "
     ]
    },
    {
     "name": "stdout",
     "output_type": "stream",
     "text": [
      "Splitting Operation Completed Successfuly!\n"
     ]
    },
    {
     "name": "stderr",
     "output_type": "stream",
     "text": [
      "\n"
     ]
    }
   ],
   "source": [
    "# Splitting the dataset into train, val and test\n",
    "input_folder = (\"./dataset/LCC_FASD/LCC_FASD_training/\")\n",
    "output_folder = (\"./dataset/split_data/\")\n",
    "splitfolders.ratio(input_folder, output=output_folder,\n",
    "    seed=1337, ratio=(.8, .1, .1))\n",
    "print(\"Splitting Operation Completed Successfuly!\")"
   ]
  },
  {
   "cell_type": "code",
   "execution_count": 5,
   "id": "08a2d511",
   "metadata": {},
   "outputs": [
    {
     "name": "stdout",
     "output_type": "stream",
     "text": [
      "New https://pypi.org/project/ultralytics/8.1.27 available 😃 Update with 'pip install -U ultralytics'\n",
      "Ultralytics YOLOv8.0.222 🚀 Python-3.9.12 torch-1.13.1+cu117 CUDA:0 (NVIDIA GeForce RTX 3080, 10017MiB)\n",
      "WARNING ⚠️ Upgrade to torch>=2.0.0 for deterministic training.\n",
      "\u001b[34m\u001b[1mengine/trainer: \u001b[0mtask=classify, mode=train, model=yolov8n-cls.pt, data=./dataset/split_data/, epochs=100, patience=50, batch=16, imgsz=224, save=True, save_period=-1, cache=False, device=None, workers=8, project=None, name=train2, exist_ok=False, pretrained=True, optimizer=auto, verbose=True, seed=0, deterministic=True, single_cls=False, rect=False, cos_lr=False, close_mosaic=10, resume=False, amp=True, fraction=1.0, profile=False, freeze=None, overlap_mask=True, mask_ratio=4, dropout=0.0, val=True, split=val, save_json=False, save_hybrid=False, conf=None, iou=0.7, max_det=300, half=False, dnn=False, plots=True, source=None, vid_stride=1, stream_buffer=False, visualize=False, augment=False, agnostic_nms=False, classes=None, retina_masks=False, show=False, save_frames=False, save_txt=False, save_conf=False, save_crop=False, show_labels=True, show_conf=True, show_boxes=True, line_width=None, format=torchscript, keras=False, optimize=False, int8=False, dynamic=False, simplify=False, opset=None, workspace=4, nms=False, lr0=0.01, lrf=0.01, momentum=0.937, weight_decay=0.0005, warmup_epochs=3.0, warmup_momentum=0.8, warmup_bias_lr=0.1, box=7.5, cls=0.5, dfl=1.5, pose=12.0, kobj=1.0, label_smoothing=0.0, nbs=64, hsv_h=0.015, hsv_s=0.7, hsv_v=0.4, degrees=0.0, translate=0.1, scale=0.5, shear=0.0, perspective=0.0, flipud=0.0, fliplr=0.5, mosaic=1.0, mixup=0.0, copy_paste=0.0, cfg=None, tracker=botsort.yaml, save_dir=runs/classify/train2\n",
      "\u001b[34m\u001b[1mtrain:\u001b[0m /hdd/face_anti_spoofing/dataset/split_data/train... found 6638 images in 2 classes ✅ \n",
      "\u001b[34m\u001b[1mval:\u001b[0m /hdd/face_anti_spoofing/dataset/split_data/val... found 829 images in 2 classes ✅ \n",
      "\u001b[34m\u001b[1mtest:\u001b[0m /hdd/face_anti_spoofing/dataset/split_data/test... found 832 images in 2 classes ✅ \n",
      "Overriding model.yaml nc=1000 with nc=2\n",
      "\n",
      "                   from  n    params  module                                       arguments                     \n",
      "  0                  -1  1       464  ultralytics.nn.modules.conv.Conv             [3, 16, 3, 2]                 \n",
      "  1                  -1  1      4672  ultralytics.nn.modules.conv.Conv             [16, 32, 3, 2]                \n",
      "  2                  -1  1      7360  ultralytics.nn.modules.block.C2f             [32, 32, 1, True]             \n",
      "  3                  -1  1     18560  ultralytics.nn.modules.conv.Conv             [32, 64, 3, 2]                \n",
      "  4                  -1  2     49664  ultralytics.nn.modules.block.C2f             [64, 64, 2, True]             \n",
      "  5                  -1  1     73984  ultralytics.nn.modules.conv.Conv             [64, 128, 3, 2]               \n",
      "  6                  -1  2    197632  ultralytics.nn.modules.block.C2f             [128, 128, 2, True]           \n",
      "  7                  -1  1    295424  ultralytics.nn.modules.conv.Conv             [128, 256, 3, 2]              \n",
      "  8                  -1  1    460288  ultralytics.nn.modules.block.C2f             [256, 256, 1, True]           \n",
      "  9                  -1  1    332802  ultralytics.nn.modules.head.Classify         [256, 2]                      \n",
      "YOLOv8n-cls summary: 99 layers, 1440850 parameters, 1440850 gradients, 3.4 GFLOPs\n",
      "Transferred 156/158 items from pretrained weights\n"
     ]
    },
    {
     "name": "stderr",
     "output_type": "stream",
     "text": [
      "2024-03-14 11:55:18.122323: E tensorflow/stream_executor/cuda/cuda_blas.cc:2981] Unable to register cuBLAS factory: Attempting to register factory for plugin cuBLAS when one has already been registered\n"
     ]
    },
    {
     "name": "stdout",
     "output_type": "stream",
     "text": [
      "\u001b[34m\u001b[1mTensorBoard: \u001b[0mStart with 'tensorboard --logdir runs/classify/train2', view at http://localhost:6006/\n",
      "\u001b[34m\u001b[1mAMP: \u001b[0mrunning Automatic Mixed Precision (AMP) checks with YOLOv8n...\n",
      "Downloading https://github.com/ultralytics/assets/releases/download/v0.0.0/yolov8n.pt to 'yolov8n.pt'...\n"
     ]
    },
    {
     "data": {
      "application/vnd.jupyter.widget-view+json": {
       "model_id": "32a091ded31d426b8241152d6ad6bda1",
       "version_major": 2,
       "version_minor": 0
      },
      "text/plain": [
       "  0%|          | 0.00/6.23M [00:00<?, ?B/s]"
      ]
     },
     "metadata": {},
     "output_type": "display_data"
    },
    {
     "name": "stdout",
     "output_type": "stream",
     "text": [
      "\u001b[34m\u001b[1mAMP: \u001b[0mchecks passed ✅\n"
     ]
    },
    {
     "name": "stderr",
     "output_type": "stream",
     "text": [
      "\u001b[34m\u001b[1mtrain: \u001b[0mScanning /hdd/face_anti_spoofing/dataset/split_data/train... 6638 images, 0 corrupt: 100%|██████████| 6638/6638 [01:14<00:00, 89.08it/s]\u001b[0m  \n"
     ]
    },
    {
     "name": "stdout",
     "output_type": "stream",
     "text": [
      "\u001b[34m\u001b[1mtrain: \u001b[0mNew cache created: /hdd/face_anti_spoofing/dataset/split_data/train.cache\n"
     ]
    },
    {
     "name": "stderr",
     "output_type": "stream",
     "text": [
      "\u001b[34m\u001b[1mval: \u001b[0mScanning /hdd/face_anti_spoofing/dataset/split_data/val... 829 images, 0 corrupt: 100%|██████████| 829/829 [00:10<00:00, 76.61it/s]\u001b[0m "
     ]
    },
    {
     "name": "stdout",
     "output_type": "stream",
     "text": [
      "\u001b[34m\u001b[1mval: \u001b[0mNew cache created: /hdd/face_anti_spoofing/dataset/split_data/val.cache\n"
     ]
    },
    {
     "name": "stderr",
     "output_type": "stream",
     "text": [
      "\n"
     ]
    },
    {
     "name": "stdout",
     "output_type": "stream",
     "text": [
      "\u001b[34m\u001b[1moptimizer:\u001b[0m 'optimizer=auto' found, ignoring 'lr0=0.01' and 'momentum=0.937' and determining best 'optimizer', 'lr0' and 'momentum' automatically... \n",
      "\u001b[34m\u001b[1moptimizer:\u001b[0m SGD(lr=0.01, momentum=0.9) with parameter groups 26 weight(decay=0.0), 27 weight(decay=0.0005), 27 bias(decay=0.0)\n",
      "Image sizes 224 train, 224 val\n",
      "Using 8 dataloader workers\n",
      "Logging results to \u001b[1mruns/classify/train2\u001b[0m\n",
      "Starting training for 100 epochs...\n",
      "\n",
      "      Epoch    GPU_mem       loss  Instances       Size\n"
     ]
    },
    {
     "name": "stderr",
     "output_type": "stream",
     "text": [
      "      1/100     0.361G     0.2493         14        224: 100%|██████████| 415/415 [01:02<00:00,  6.65it/s]\n",
      "               classes   top1_acc   top5_acc: 100%|██████████| 26/26 [00:05<00:00,  4.44it/s]"
     ]
    },
    {
     "name": "stdout",
     "output_type": "stream",
     "text": [
      "                   all      0.981          1\n",
      "\n",
      "      Epoch    GPU_mem       loss  Instances       Size\n"
     ]
    },
    {
     "name": "stderr",
     "output_type": "stream",
     "text": [
      "\n",
      "      2/100      0.34G    0.07562         14        224: 100%|██████████| 415/415 [00:24<00:00, 17.14it/s]\n",
      "               classes   top1_acc   top5_acc: 100%|██████████| 26/26 [00:03<00:00,  8.11it/s]"
     ]
    },
    {
     "name": "stdout",
     "output_type": "stream",
     "text": [
      "                   all      0.961          1\n",
      "\n",
      "      Epoch    GPU_mem       loss  Instances       Size\n"
     ]
    },
    {
     "name": "stderr",
     "output_type": "stream",
     "text": [
      "\n",
      "      3/100     0.342G     0.1185         14        224: 100%|██████████| 415/415 [00:12<00:00, 32.12it/s]\n",
      "               classes   top1_acc   top5_acc: 100%|██████████| 26/26 [00:00<00:00, 39.44it/s]"
     ]
    },
    {
     "name": "stdout",
     "output_type": "stream",
     "text": [
      "                   all      0.913          1\n"
     ]
    },
    {
     "name": "stderr",
     "output_type": "stream",
     "text": [
      "\n"
     ]
    },
    {
     "name": "stdout",
     "output_type": "stream",
     "text": [
      "\n",
      "      Epoch    GPU_mem       loss  Instances       Size\n"
     ]
    },
    {
     "name": "stderr",
     "output_type": "stream",
     "text": [
      "      4/100     0.342G     0.1058         14        224: 100%|██████████| 415/415 [00:09<00:00, 43.97it/s]\n",
      "               classes   top1_acc   top5_acc: 100%|██████████| 26/26 [00:00<00:00, 47.65it/s] "
     ]
    },
    {
     "name": "stdout",
     "output_type": "stream",
     "text": [
      "                   all      0.978          1\n",
      "\n",
      "      Epoch    GPU_mem       loss  Instances       Size\n"
     ]
    },
    {
     "name": "stderr",
     "output_type": "stream",
     "text": [
      "\n",
      "      5/100      0.34G    0.06652         14        224: 100%|██████████| 415/415 [00:11<00:00, 35.45it/s]\n",
      "               classes   top1_acc   top5_acc: 100%|██████████| 26/26 [00:00<00:00, 52.54it/s] "
     ]
    },
    {
     "name": "stdout",
     "output_type": "stream",
     "text": [
      "                   all      0.973          1\n",
      "\n",
      "      Epoch    GPU_mem       loss  Instances       Size\n"
     ]
    },
    {
     "name": "stderr",
     "output_type": "stream",
     "text": [
      "\n",
      "      6/100      0.34G    0.05703         14        224: 100%|██████████| 415/415 [00:09<00:00, 45.67it/s]\n",
      "               classes   top1_acc   top5_acc: 100%|██████████| 26/26 [00:00<00:00, 57.28it/s]"
     ]
    },
    {
     "name": "stdout",
     "output_type": "stream",
     "text": [
      "                   all      0.989          1\n",
      "\n",
      "      Epoch    GPU_mem       loss  Instances       Size\n"
     ]
    },
    {
     "name": "stderr",
     "output_type": "stream",
     "text": [
      "\n",
      "      7/100     0.342G    0.02605         14        224: 100%|██████████| 415/415 [00:09<00:00, 42.36it/s]\n",
      "               classes   top1_acc   top5_acc: 100%|██████████| 26/26 [00:00<00:00, 42.96it/s]"
     ]
    },
    {
     "name": "stdout",
     "output_type": "stream",
     "text": [
      "                   all      0.992          1\n"
     ]
    },
    {
     "name": "stderr",
     "output_type": "stream",
     "text": [
      "\n"
     ]
    },
    {
     "name": "stdout",
     "output_type": "stream",
     "text": [
      "\n",
      "      Epoch    GPU_mem       loss  Instances       Size\n"
     ]
    },
    {
     "name": "stderr",
     "output_type": "stream",
     "text": [
      "      8/100     0.342G    0.01575         14        224: 100%|██████████| 415/415 [00:12<00:00, 33.43it/s]\n",
      "               classes   top1_acc   top5_acc: 100%|██████████| 26/26 [00:00<00:00, 52.97it/s] "
     ]
    },
    {
     "name": "stdout",
     "output_type": "stream",
     "text": [
      "                   all      0.993          1\n"
     ]
    },
    {
     "name": "stderr",
     "output_type": "stream",
     "text": [
      "\n"
     ]
    },
    {
     "name": "stdout",
     "output_type": "stream",
     "text": [
      "\n",
      "      Epoch    GPU_mem       loss  Instances       Size\n"
     ]
    },
    {
     "name": "stderr",
     "output_type": "stream",
     "text": [
      "      9/100      0.34G    0.03326         14        224: 100%|██████████| 415/415 [00:13<00:00, 30.18it/s]\n",
      "               classes   top1_acc   top5_acc: 100%|██████████| 26/26 [00:00<00:00, 54.54it/s]"
     ]
    },
    {
     "name": "stdout",
     "output_type": "stream",
     "text": [
      "                   all      0.959          1\n",
      "\n",
      "      Epoch    GPU_mem       loss  Instances       Size\n"
     ]
    },
    {
     "name": "stderr",
     "output_type": "stream",
     "text": [
      "\n",
      "     10/100      0.34G    0.02849         14        224: 100%|██████████| 415/415 [00:10<00:00, 38.54it/s]\n",
      "               classes   top1_acc   top5_acc: 100%|██████████| 26/26 [00:00<00:00, 26.85it/s] "
     ]
    },
    {
     "name": "stdout",
     "output_type": "stream",
     "text": [
      "                   all      0.989          1\n",
      "\n",
      "      Epoch    GPU_mem       loss  Instances       Size\n"
     ]
    },
    {
     "name": "stderr",
     "output_type": "stream",
     "text": [
      "\n",
      "     11/100     0.342G    0.01566         14        224: 100%|██████████| 415/415 [00:09<00:00, 42.43it/s]\n",
      "               classes   top1_acc   top5_acc: 100%|██████████| 26/26 [00:01<00:00, 21.38it/s]"
     ]
    },
    {
     "name": "stdout",
     "output_type": "stream",
     "text": [
      "                   all      0.972          1\n"
     ]
    },
    {
     "name": "stderr",
     "output_type": "stream",
     "text": [
      "\n"
     ]
    },
    {
     "name": "stdout",
     "output_type": "stream",
     "text": [
      "\n",
      "      Epoch    GPU_mem       loss  Instances       Size\n"
     ]
    },
    {
     "name": "stderr",
     "output_type": "stream",
     "text": [
      "     12/100      0.34G    0.02031         14        224: 100%|██████████| 415/415 [00:19<00:00, 21.58it/s]\n",
      "               classes   top1_acc   top5_acc: 100%|██████████| 26/26 [00:02<00:00, 10.14it/s]"
     ]
    },
    {
     "name": "stdout",
     "output_type": "stream",
     "text": [
      "                   all      0.979          1\n",
      "\n",
      "      Epoch    GPU_mem       loss  Instances       Size\n"
     ]
    },
    {
     "name": "stderr",
     "output_type": "stream",
     "text": [
      "\n",
      "     13/100     0.342G   0.008558         14        224: 100%|██████████| 415/415 [00:21<00:00, 18.93it/s]\n",
      "               classes   top1_acc   top5_acc: 100%|██████████| 26/26 [00:01<00:00, 23.67it/s]"
     ]
    },
    {
     "name": "stdout",
     "output_type": "stream",
     "text": [
      "                   all      0.996          1\n"
     ]
    },
    {
     "name": "stderr",
     "output_type": "stream",
     "text": [
      "\n"
     ]
    },
    {
     "name": "stdout",
     "output_type": "stream",
     "text": [
      "\n",
      "      Epoch    GPU_mem       loss  Instances       Size\n"
     ]
    },
    {
     "name": "stderr",
     "output_type": "stream",
     "text": [
      "     14/100     0.342G   0.009658         14        224: 100%|██████████| 415/415 [00:11<00:00, 36.94it/s]\n",
      "               classes   top1_acc   top5_acc: 100%|██████████| 26/26 [00:00<00:00, 43.32it/s]"
     ]
    },
    {
     "name": "stdout",
     "output_type": "stream",
     "text": [
      "                   all       0.99          1\n",
      "\n",
      "      Epoch    GPU_mem       loss  Instances       Size\n"
     ]
    },
    {
     "name": "stderr",
     "output_type": "stream",
     "text": [
      "\n",
      "     15/100     0.342G    0.01515         14        224: 100%|██████████| 415/415 [00:13<00:00, 30.89it/s]\n",
      "               classes   top1_acc   top5_acc: 100%|██████████| 26/26 [00:00<00:00, 43.62it/s]"
     ]
    },
    {
     "name": "stdout",
     "output_type": "stream",
     "text": [
      "                   all       0.99          1\n"
     ]
    },
    {
     "name": "stderr",
     "output_type": "stream",
     "text": [
      "\n"
     ]
    },
    {
     "name": "stdout",
     "output_type": "stream",
     "text": [
      "\n",
      "      Epoch    GPU_mem       loss  Instances       Size\n"
     ]
    },
    {
     "name": "stderr",
     "output_type": "stream",
     "text": [
      "     16/100     0.342G   0.008687         14        224: 100%|██████████| 415/415 [00:13<00:00, 29.75it/s]\n",
      "               classes   top1_acc   top5_acc: 100%|██████████| 26/26 [00:01<00:00, 25.70it/s]"
     ]
    },
    {
     "name": "stdout",
     "output_type": "stream",
     "text": [
      "                   all      0.993          1\n",
      "\n",
      "      Epoch    GPU_mem       loss  Instances       Size\n"
     ]
    },
    {
     "name": "stderr",
     "output_type": "stream",
     "text": [
      "\n",
      "     17/100      0.34G     0.0147         14        224: 100%|██████████| 415/415 [00:15<00:00, 26.46it/s]\n",
      "               classes   top1_acc   top5_acc: 100%|██████████| 26/26 [00:00<00:00, 43.85it/s]"
     ]
    },
    {
     "name": "stdout",
     "output_type": "stream",
     "text": [
      "                   all      0.987          1\n"
     ]
    },
    {
     "name": "stderr",
     "output_type": "stream",
     "text": [
      "\n"
     ]
    },
    {
     "name": "stdout",
     "output_type": "stream",
     "text": [
      "\n",
      "      Epoch    GPU_mem       loss  Instances       Size\n"
     ]
    },
    {
     "name": "stderr",
     "output_type": "stream",
     "text": [
      "     18/100     0.342G    0.00619         14        224: 100%|██████████| 415/415 [00:09<00:00, 43.14it/s]\n",
      "               classes   top1_acc   top5_acc: 100%|██████████| 26/26 [00:00<00:00, 61.44it/s]"
     ]
    },
    {
     "name": "stdout",
     "output_type": "stream",
     "text": [
      "                   all      0.998          1\n"
     ]
    },
    {
     "name": "stderr",
     "output_type": "stream",
     "text": [
      "\n"
     ]
    },
    {
     "name": "stdout",
     "output_type": "stream",
     "text": [
      "\n",
      "      Epoch    GPU_mem       loss  Instances       Size\n"
     ]
    },
    {
     "name": "stderr",
     "output_type": "stream",
     "text": [
      "     19/100      0.34G   0.003822         14        224: 100%|██████████| 415/415 [00:11<00:00, 34.69it/s]\n",
      "               classes   top1_acc   top5_acc: 100%|██████████| 26/26 [00:00<00:00, 38.34it/s]"
     ]
    },
    {
     "name": "stdout",
     "output_type": "stream",
     "text": [
      "                   all      0.999          1\n",
      "\n",
      "      Epoch    GPU_mem       loss  Instances       Size\n"
     ]
    },
    {
     "name": "stderr",
     "output_type": "stream",
     "text": [
      "\n",
      "     20/100      0.34G   0.001273         14        224: 100%|██████████| 415/415 [00:12<00:00, 34.54it/s]\n",
      "               classes   top1_acc   top5_acc: 100%|██████████| 26/26 [00:01<00:00, 20.91it/s]"
     ]
    },
    {
     "name": "stdout",
     "output_type": "stream",
     "text": [
      "                   all      0.995          1\n",
      "\n",
      "      Epoch    GPU_mem       loss  Instances       Size\n"
     ]
    },
    {
     "name": "stderr",
     "output_type": "stream",
     "text": [
      "\n",
      "     21/100      0.34G  0.0009351         14        224: 100%|██████████| 415/415 [00:10<00:00, 38.98it/s]\n",
      "               classes   top1_acc   top5_acc: 100%|██████████| 26/26 [00:00<00:00, 41.75it/s] "
     ]
    },
    {
     "name": "stdout",
     "output_type": "stream",
     "text": [
      "                   all      0.998          1\n",
      "\n",
      "      Epoch    GPU_mem       loss  Instances       Size\n"
     ]
    },
    {
     "name": "stderr",
     "output_type": "stream",
     "text": [
      "\n",
      "     22/100     0.342G    0.01021         14        224: 100%|██████████| 415/415 [00:14<00:00, 28.18it/s]\n",
      "               classes   top1_acc   top5_acc: 100%|██████████| 26/26 [00:00<00:00, 31.87it/s]"
     ]
    },
    {
     "name": "stdout",
     "output_type": "stream",
     "text": [
      "                   all      0.993          1\n",
      "\n",
      "      Epoch    GPU_mem       loss  Instances       Size\n"
     ]
    },
    {
     "name": "stderr",
     "output_type": "stream",
     "text": [
      "\n",
      "     23/100     0.342G   0.003574         14        224: 100%|██████████| 415/415 [00:10<00:00, 39.36it/s]\n",
      "               classes   top1_acc   top5_acc: 100%|██████████| 26/26 [00:01<00:00, 19.70it/s]"
     ]
    },
    {
     "name": "stdout",
     "output_type": "stream",
     "text": [
      "                   all      0.999          1\n"
     ]
    },
    {
     "name": "stderr",
     "output_type": "stream",
     "text": [
      "\n"
     ]
    },
    {
     "name": "stdout",
     "output_type": "stream",
     "text": [
      "\n",
      "      Epoch    GPU_mem       loss  Instances       Size\n"
     ]
    },
    {
     "name": "stderr",
     "output_type": "stream",
     "text": [
      "     24/100      0.34G   0.006964         14        224: 100%|██████████| 415/415 [00:12<00:00, 34.55it/s]\n",
      "               classes   top1_acc   top5_acc: 100%|██████████| 26/26 [00:01<00:00, 15.27it/s]"
     ]
    },
    {
     "name": "stdout",
     "output_type": "stream",
     "text": [
      "                   all      0.998          1\n",
      "\n",
      "      Epoch    GPU_mem       loss  Instances       Size\n"
     ]
    },
    {
     "name": "stderr",
     "output_type": "stream",
     "text": [
      "\n",
      "     25/100     0.342G   0.005853         14        224: 100%|██████████| 415/415 [00:12<00:00, 32.43it/s]\n",
      "               classes   top1_acc   top5_acc: 100%|██████████| 26/26 [00:01<00:00, 16.96it/s]"
     ]
    },
    {
     "name": "stdout",
     "output_type": "stream",
     "text": [
      "                   all      0.993          1\n"
     ]
    },
    {
     "name": "stderr",
     "output_type": "stream",
     "text": [
      "\n"
     ]
    },
    {
     "name": "stdout",
     "output_type": "stream",
     "text": [
      "\n",
      "      Epoch    GPU_mem       loss  Instances       Size\n"
     ]
    },
    {
     "name": "stderr",
     "output_type": "stream",
     "text": [
      "     26/100     0.342G   0.004776         14        224: 100%|██████████| 415/415 [00:09<00:00, 44.85it/s]\n",
      "               classes   top1_acc   top5_acc: 100%|██████████| 26/26 [00:02<00:00, 11.21it/s] "
     ]
    },
    {
     "name": "stdout",
     "output_type": "stream",
     "text": [
      "                   all      0.994          1\n",
      "\n",
      "      Epoch    GPU_mem       loss  Instances       Size\n"
     ]
    },
    {
     "name": "stderr",
     "output_type": "stream",
     "text": [
      "\n",
      "     27/100      0.34G    0.00187         14        224: 100%|██████████| 415/415 [00:08<00:00, 48.59it/s]\n",
      "               classes   top1_acc   top5_acc: 100%|██████████| 26/26 [00:01<00:00, 20.10it/s]"
     ]
    },
    {
     "name": "stdout",
     "output_type": "stream",
     "text": [
      "                   all      0.994          1\n"
     ]
    },
    {
     "name": "stderr",
     "output_type": "stream",
     "text": [
      "\n"
     ]
    },
    {
     "name": "stdout",
     "output_type": "stream",
     "text": [
      "\n",
      "      Epoch    GPU_mem       loss  Instances       Size\n"
     ]
    },
    {
     "name": "stderr",
     "output_type": "stream",
     "text": [
      "     28/100     0.342G   0.002003         14        224: 100%|██████████| 415/415 [00:11<00:00, 36.28it/s]\n",
      "               classes   top1_acc   top5_acc: 100%|██████████| 26/26 [00:00<00:00, 36.02it/s] "
     ]
    },
    {
     "name": "stdout",
     "output_type": "stream",
     "text": [
      "                   all      0.999          1\n",
      "\n",
      "      Epoch    GPU_mem       loss  Instances       Size\n"
     ]
    },
    {
     "name": "stderr",
     "output_type": "stream",
     "text": [
      "\n",
      "     29/100      0.34G   0.001449         14        224: 100%|██████████| 415/415 [00:12<00:00, 33.39it/s]\n",
      "               classes   top1_acc   top5_acc: 100%|██████████| 26/26 [00:01<00:00, 24.27it/s]"
     ]
    },
    {
     "name": "stdout",
     "output_type": "stream",
     "text": [
      "                   all          1          1\n"
     ]
    },
    {
     "name": "stderr",
     "output_type": "stream",
     "text": [
      "\n"
     ]
    },
    {
     "name": "stdout",
     "output_type": "stream",
     "text": [
      "\n",
      "      Epoch    GPU_mem       loss  Instances       Size\n"
     ]
    },
    {
     "name": "stderr",
     "output_type": "stream",
     "text": [
      "     30/100      0.34G  0.0001975         14        224: 100%|██████████| 415/415 [00:15<00:00, 26.31it/s]\n",
      "               classes   top1_acc   top5_acc: 100%|██████████| 26/26 [00:00<00:00, 28.49it/s]"
     ]
    },
    {
     "name": "stdout",
     "output_type": "stream",
     "text": [
      "                   all      0.998          1\n",
      "\n",
      "      Epoch    GPU_mem       loss  Instances       Size\n"
     ]
    },
    {
     "name": "stderr",
     "output_type": "stream",
     "text": [
      "\n",
      "     31/100     0.342G  9.442e-05         14        224: 100%|██████████| 415/415 [00:11<00:00, 36.82it/s]\n",
      "               classes   top1_acc   top5_acc: 100%|██████████| 26/26 [00:00<00:00, 46.37it/s]"
     ]
    },
    {
     "name": "stdout",
     "output_type": "stream",
     "text": [
      "                   all      0.999          1\n",
      "\n",
      "      Epoch    GPU_mem       loss  Instances       Size\n"
     ]
    },
    {
     "name": "stderr",
     "output_type": "stream",
     "text": [
      "\n",
      "     32/100     0.342G   4.54e-05         14        224: 100%|██████████| 415/415 [00:12<00:00, 33.18it/s]\n",
      "               classes   top1_acc   top5_acc: 100%|██████████| 26/26 [00:00<00:00, 45.00it/s]"
     ]
    },
    {
     "name": "stdout",
     "output_type": "stream",
     "text": [
      "                   all      0.999          1\n",
      "\n",
      "      Epoch    GPU_mem       loss  Instances       Size\n"
     ]
    },
    {
     "name": "stderr",
     "output_type": "stream",
     "text": [
      "\n",
      "     33/100     0.342G  4.542e-05         14        224: 100%|██████████| 415/415 [00:14<00:00, 29.03it/s]\n",
      "               classes   top1_acc   top5_acc: 100%|██████████| 26/26 [00:01<00:00, 22.22it/s]"
     ]
    },
    {
     "name": "stdout",
     "output_type": "stream",
     "text": [
      "                   all      0.999          1\n",
      "\n",
      "      Epoch    GPU_mem       loss  Instances       Size\n"
     ]
    },
    {
     "name": "stderr",
     "output_type": "stream",
     "text": [
      "\n",
      "     34/100     0.342G  5.838e-05         14        224: 100%|██████████| 415/415 [00:10<00:00, 38.34it/s]\n",
      "               classes   top1_acc   top5_acc: 100%|██████████| 26/26 [00:01<00:00, 25.89it/s]"
     ]
    },
    {
     "name": "stdout",
     "output_type": "stream",
     "text": [
      "                   all      0.999          1\n"
     ]
    },
    {
     "name": "stderr",
     "output_type": "stream",
     "text": [
      "\n"
     ]
    },
    {
     "name": "stdout",
     "output_type": "stream",
     "text": [
      "\n",
      "      Epoch    GPU_mem       loss  Instances       Size\n"
     ]
    },
    {
     "name": "stderr",
     "output_type": "stream",
     "text": [
      "     35/100      0.34G  5.023e-05         14        224: 100%|██████████| 415/415 [00:16<00:00, 25.76it/s]\n",
      "               classes   top1_acc   top5_acc: 100%|██████████| 26/26 [00:01<00:00, 20.20it/s]"
     ]
    },
    {
     "name": "stdout",
     "output_type": "stream",
     "text": [
      "                   all      0.999          1\n",
      "\n",
      "      Epoch    GPU_mem       loss  Instances       Size\n"
     ]
    },
    {
     "name": "stderr",
     "output_type": "stream",
     "text": [
      "\n",
      "     36/100      0.34G  6.808e-05         14        224: 100%|██████████| 415/415 [00:14<00:00, 27.84it/s]\n",
      "               classes   top1_acc   top5_acc: 100%|██████████| 26/26 [00:02<00:00, 11.71it/s]"
     ]
    },
    {
     "name": "stdout",
     "output_type": "stream",
     "text": [
      "                   all          1          1\n",
      "\n",
      "      Epoch    GPU_mem       loss  Instances       Size\n"
     ]
    },
    {
     "name": "stderr",
     "output_type": "stream",
     "text": [
      "\n",
      "     37/100     0.342G  9.233e-05         14        224: 100%|██████████| 415/415 [00:20<00:00, 20.43it/s]\n",
      "               classes   top1_acc   top5_acc: 100%|██████████| 26/26 [00:02<00:00, 12.39it/s]"
     ]
    },
    {
     "name": "stdout",
     "output_type": "stream",
     "text": [
      "                   all          1          1\n"
     ]
    },
    {
     "name": "stderr",
     "output_type": "stream",
     "text": [
      "\n"
     ]
    },
    {
     "name": "stdout",
     "output_type": "stream",
     "text": [
      "\n",
      "      Epoch    GPU_mem       loss  Instances       Size\n"
     ]
    },
    {
     "name": "stderr",
     "output_type": "stream",
     "text": [
      "     38/100     0.342G  5.014e-05         14        224: 100%|██████████| 415/415 [00:15<00:00, 26.27it/s]\n",
      "               classes   top1_acc   top5_acc: 100%|██████████| 26/26 [00:02<00:00, 11.99it/s]"
     ]
    },
    {
     "name": "stdout",
     "output_type": "stream",
     "text": [
      "                   all          1          1\n"
     ]
    },
    {
     "name": "stderr",
     "output_type": "stream",
     "text": [
      "\n"
     ]
    },
    {
     "name": "stdout",
     "output_type": "stream",
     "text": [
      "\n",
      "      Epoch    GPU_mem       loss  Instances       Size\n"
     ]
    },
    {
     "name": "stderr",
     "output_type": "stream",
     "text": [
      "     39/100      0.34G  2.661e-05         14        224: 100%|██████████| 415/415 [00:20<00:00, 19.81it/s]\n",
      "               classes   top1_acc   top5_acc: 100%|██████████| 26/26 [00:01<00:00, 18.39it/s]"
     ]
    },
    {
     "name": "stdout",
     "output_type": "stream",
     "text": [
      "                   all      0.999          1\n",
      "\n",
      "      Epoch    GPU_mem       loss  Instances       Size\n"
     ]
    },
    {
     "name": "stderr",
     "output_type": "stream",
     "text": [
      "\n",
      "     40/100      0.34G   5.85e-05         14        224: 100%|██████████| 415/415 [00:19<00:00, 21.77it/s]\n",
      "               classes   top1_acc   top5_acc: 100%|██████████| 26/26 [00:00<00:00, 26.93it/s]"
     ]
    },
    {
     "name": "stdout",
     "output_type": "stream",
     "text": [
      "                   all          1          1\n",
      "\n",
      "      Epoch    GPU_mem       loss  Instances       Size\n"
     ]
    },
    {
     "name": "stderr",
     "output_type": "stream",
     "text": [
      "\n",
      "     41/100      0.34G  5.008e-05         14        224: 100%|██████████| 415/415 [00:18<00:00, 22.52it/s]\n",
      "               classes   top1_acc   top5_acc: 100%|██████████| 26/26 [00:00<00:00, 40.94it/s] "
     ]
    },
    {
     "name": "stdout",
     "output_type": "stream",
     "text": [
      "                   all      0.999          1\n",
      "\n",
      "      Epoch    GPU_mem       loss  Instances       Size\n"
     ]
    },
    {
     "name": "stderr",
     "output_type": "stream",
     "text": [
      "\n",
      "     42/100     0.342G  2.492e-05         14        224: 100%|██████████| 415/415 [00:21<00:00, 19.72it/s]\n",
      "               classes   top1_acc   top5_acc: 100%|██████████| 26/26 [00:01<00:00, 20.43it/s]"
     ]
    },
    {
     "name": "stdout",
     "output_type": "stream",
     "text": [
      "                   all      0.999          1\n",
      "\n",
      "      Epoch    GPU_mem       loss  Instances       Size\n"
     ]
    },
    {
     "name": "stderr",
     "output_type": "stream",
     "text": [
      "\n",
      "     43/100     0.342G  2.381e-05         14        224: 100%|██████████| 415/415 [00:17<00:00, 23.11it/s]\n",
      "               classes   top1_acc   top5_acc: 100%|██████████| 26/26 [00:01<00:00, 20.68it/s]"
     ]
    },
    {
     "name": "stdout",
     "output_type": "stream",
     "text": [
      "                   all      0.999          1\n",
      "\n",
      "      Epoch    GPU_mem       loss  Instances       Size\n"
     ]
    },
    {
     "name": "stderr",
     "output_type": "stream",
     "text": [
      "\n",
      "     44/100      0.34G  1.997e-05         14        224: 100%|██████████| 415/415 [00:19<00:00, 20.92it/s]\n",
      "               classes   top1_acc   top5_acc: 100%|██████████| 26/26 [00:01<00:00, 15.81it/s]"
     ]
    },
    {
     "name": "stdout",
     "output_type": "stream",
     "text": [
      "                   all      0.999          1\n",
      "\n",
      "      Epoch    GPU_mem       loss  Instances       Size\n"
     ]
    },
    {
     "name": "stderr",
     "output_type": "stream",
     "text": [
      "\n",
      "     45/100      0.34G   8.97e-05         14        224: 100%|██████████| 415/415 [00:14<00:00, 28.49it/s]\n",
      "               classes   top1_acc   top5_acc: 100%|██████████| 26/26 [00:01<00:00, 19.00it/s]"
     ]
    },
    {
     "name": "stdout",
     "output_type": "stream",
     "text": [
      "                   all      0.999          1\n",
      "\n",
      "      Epoch    GPU_mem       loss  Instances       Size\n"
     ]
    },
    {
     "name": "stderr",
     "output_type": "stream",
     "text": [
      "\n",
      "     46/100     0.342G   3.33e-05         14        224: 100%|██████████| 415/415 [00:12<00:00, 31.98it/s]\n",
      "               classes   top1_acc   top5_acc: 100%|██████████| 26/26 [00:00<00:00, 30.88it/s]"
     ]
    },
    {
     "name": "stdout",
     "output_type": "stream",
     "text": [
      "                   all      0.998          1\n",
      "\n",
      "      Epoch    GPU_mem       loss  Instances       Size\n"
     ]
    },
    {
     "name": "stderr",
     "output_type": "stream",
     "text": [
      "\n",
      "     47/100     0.342G  2.139e-05         14        224: 100%|██████████| 415/415 [00:11<00:00, 35.74it/s]\n",
      "               classes   top1_acc   top5_acc: 100%|██████████| 26/26 [00:01<00:00, 18.54it/s]"
     ]
    },
    {
     "name": "stdout",
     "output_type": "stream",
     "text": [
      "                   all      0.999          1\n"
     ]
    },
    {
     "name": "stderr",
     "output_type": "stream",
     "text": [
      "\n"
     ]
    },
    {
     "name": "stdout",
     "output_type": "stream",
     "text": [
      "\n",
      "      Epoch    GPU_mem       loss  Instances       Size\n"
     ]
    },
    {
     "name": "stderr",
     "output_type": "stream",
     "text": [
      "     48/100     0.342G  4.113e-05         14        224: 100%|██████████| 415/415 [00:11<00:00, 34.86it/s]\n",
      "               classes   top1_acc   top5_acc: 100%|██████████| 26/26 [00:01<00:00, 13.11it/s]"
     ]
    },
    {
     "name": "stdout",
     "output_type": "stream",
     "text": [
      "                   all      0.999          1\n",
      "\n",
      "      Epoch    GPU_mem       loss  Instances       Size\n"
     ]
    },
    {
     "name": "stderr",
     "output_type": "stream",
     "text": [
      "\n",
      "     49/100      0.34G  3.935e-05         14        224: 100%|██████████| 415/415 [00:16<00:00, 24.42it/s]\n",
      "               classes   top1_acc   top5_acc: 100%|██████████| 26/26 [00:01<00:00, 20.40it/s]"
     ]
    },
    {
     "name": "stdout",
     "output_type": "stream",
     "text": [
      "                   all      0.999          1\n",
      "\n",
      "      Epoch    GPU_mem       loss  Instances       Size\n"
     ]
    },
    {
     "name": "stderr",
     "output_type": "stream",
     "text": [
      "\n",
      "     50/100     0.342G  1.968e-05         14        224: 100%|██████████| 415/415 [00:16<00:00, 25.18it/s]\n",
      "               classes   top1_acc   top5_acc: 100%|██████████| 26/26 [00:01<00:00, 16.72it/s]"
     ]
    },
    {
     "name": "stdout",
     "output_type": "stream",
     "text": [
      "                   all      0.999          1\n"
     ]
    },
    {
     "name": "stderr",
     "output_type": "stream",
     "text": [
      "\n"
     ]
    },
    {
     "name": "stdout",
     "output_type": "stream",
     "text": [
      "\n",
      "      Epoch    GPU_mem       loss  Instances       Size\n"
     ]
    },
    {
     "name": "stderr",
     "output_type": "stream",
     "text": [
      "     51/100      0.34G  7.459e-05         14        224: 100%|██████████| 415/415 [00:19<00:00, 20.85it/s]\n",
      "               classes   top1_acc   top5_acc: 100%|██████████| 26/26 [00:01<00:00, 17.56it/s]"
     ]
    },
    {
     "name": "stdout",
     "output_type": "stream",
     "text": [
      "                   all      0.999          1\n",
      "\n",
      "      Epoch    GPU_mem       loss  Instances       Size\n"
     ]
    },
    {
     "name": "stderr",
     "output_type": "stream",
     "text": [
      "\n",
      "     52/100      0.34G  4.985e-05         14        224: 100%|██████████| 415/415 [00:19<00:00, 21.14it/s]\n",
      "               classes   top1_acc   top5_acc: 100%|██████████| 26/26 [00:00<00:00, 27.35it/s]"
     ]
    },
    {
     "name": "stdout",
     "output_type": "stream",
     "text": [
      "                   all      0.999          1\n",
      "\n",
      "      Epoch    GPU_mem       loss  Instances       Size\n"
     ]
    },
    {
     "name": "stderr",
     "output_type": "stream",
     "text": [
      "\n",
      "     53/100     0.342G  2.207e-05         14        224: 100%|██████████| 415/415 [00:16<00:00, 25.20it/s]\n",
      "               classes   top1_acc   top5_acc: 100%|██████████| 26/26 [00:01<00:00, 19.28it/s] "
     ]
    },
    {
     "name": "stdout",
     "output_type": "stream",
     "text": [
      "                   all      0.999          1\n",
      "\n",
      "      Epoch    GPU_mem       loss  Instances       Size\n"
     ]
    },
    {
     "name": "stderr",
     "output_type": "stream",
     "text": [
      "\n",
      "     54/100      0.34G  2.355e-05         14        224: 100%|██████████| 415/415 [00:19<00:00, 21.20it/s]\n",
      "               classes   top1_acc   top5_acc: 100%|██████████| 26/26 [00:01<00:00, 14.31it/s]"
     ]
    },
    {
     "name": "stdout",
     "output_type": "stream",
     "text": [
      "                   all      0.999          1\n",
      "\n",
      "      Epoch    GPU_mem       loss  Instances       Size\n"
     ]
    },
    {
     "name": "stderr",
     "output_type": "stream",
     "text": [
      "\n",
      "     55/100     0.342G  2.883e-05         14        224: 100%|██████████| 415/415 [00:17<00:00, 23.28it/s]\n",
      "               classes   top1_acc   top5_acc: 100%|██████████| 26/26 [00:01<00:00, 22.91it/s]"
     ]
    },
    {
     "name": "stdout",
     "output_type": "stream",
     "text": [
      "                   all      0.999          1\n",
      "\n",
      "      Epoch    GPU_mem       loss  Instances       Size\n"
     ]
    },
    {
     "name": "stderr",
     "output_type": "stream",
     "text": [
      "\n",
      "     56/100      0.34G   5.16e-05         14        224: 100%|██████████| 415/415 [00:14<00:00, 28.60it/s]\n",
      "               classes   top1_acc   top5_acc: 100%|██████████| 26/26 [00:00<00:00, 43.61it/s]"
     ]
    },
    {
     "name": "stdout",
     "output_type": "stream",
     "text": [
      "                   all      0.999          1\n",
      "\n",
      "      Epoch    GPU_mem       loss  Instances       Size\n"
     ]
    },
    {
     "name": "stderr",
     "output_type": "stream",
     "text": [
      "\n",
      "     57/100      0.34G  1.904e-05         14        224: 100%|██████████| 415/415 [00:10<00:00, 38.29it/s]\n",
      "               classes   top1_acc   top5_acc: 100%|██████████| 26/26 [00:01<00:00, 24.92it/s]"
     ]
    },
    {
     "name": "stdout",
     "output_type": "stream",
     "text": [
      "                   all      0.999          1\n",
      "\n",
      "      Epoch    GPU_mem       loss  Instances       Size\n"
     ]
    },
    {
     "name": "stderr",
     "output_type": "stream",
     "text": [
      "\n",
      "     58/100     0.342G    4.6e-05         14        224: 100%|██████████| 415/415 [00:08<00:00, 49.00it/s]\n",
      "               classes   top1_acc   top5_acc: 100%|██████████| 26/26 [00:00<00:00, 26.27it/s]"
     ]
    },
    {
     "name": "stdout",
     "output_type": "stream",
     "text": [
      "                   all      0.999          1\n",
      "\n",
      "      Epoch    GPU_mem       loss  Instances       Size\n"
     ]
    },
    {
     "name": "stderr",
     "output_type": "stream",
     "text": [
      "\n",
      "     59/100      0.34G  2.425e-05         14        224: 100%|██████████| 415/415 [00:10<00:00, 39.60it/s]\n",
      "               classes   top1_acc   top5_acc: 100%|██████████| 26/26 [00:00<00:00, 42.29it/s] "
     ]
    },
    {
     "name": "stdout",
     "output_type": "stream",
     "text": [
      "                   all      0.999          1\n",
      "\n",
      "      Epoch    GPU_mem       loss  Instances       Size\n"
     ]
    },
    {
     "name": "stderr",
     "output_type": "stream",
     "text": [
      "\n",
      "     60/100      0.34G  2.935e-05         14        224: 100%|██████████| 415/415 [00:08<00:00, 48.22it/s]\n",
      "               classes   top1_acc   top5_acc: 100%|██████████| 26/26 [00:00<00:00, 30.23it/s]"
     ]
    },
    {
     "name": "stdout",
     "output_type": "stream",
     "text": [
      "                   all      0.999          1\n",
      "\n",
      "      Epoch    GPU_mem       loss  Instances       Size\n"
     ]
    },
    {
     "name": "stderr",
     "output_type": "stream",
     "text": [
      "\n",
      "     61/100      0.34G  1.569e-05         14        224: 100%|██████████| 415/415 [00:08<00:00, 50.92it/s]\n",
      "               classes   top1_acc   top5_acc: 100%|██████████| 26/26 [00:00<00:00, 29.90it/s] "
     ]
    },
    {
     "name": "stdout",
     "output_type": "stream",
     "text": [
      "                   all      0.999          1\n",
      "\n",
      "      Epoch    GPU_mem       loss  Instances       Size\n"
     ]
    },
    {
     "name": "stderr",
     "output_type": "stream",
     "text": [
      "\n",
      "     62/100      0.34G  2.423e-05         14        224: 100%|██████████| 415/415 [00:07<00:00, 53.16it/s]\n",
      "               classes   top1_acc   top5_acc: 100%|██████████| 26/26 [00:00<00:00, 42.05it/s]"
     ]
    },
    {
     "name": "stdout",
     "output_type": "stream",
     "text": [
      "                   all      0.999          1\n",
      "\n",
      "      Epoch    GPU_mem       loss  Instances       Size\n"
     ]
    },
    {
     "name": "stderr",
     "output_type": "stream",
     "text": [
      "\n",
      "     63/100      0.34G  2.107e-05         14        224: 100%|██████████| 415/415 [00:07<00:00, 53.55it/s]\n",
      "               classes   top1_acc   top5_acc: 100%|██████████| 26/26 [00:00<00:00, 41.29it/s]"
     ]
    },
    {
     "name": "stdout",
     "output_type": "stream",
     "text": [
      "                   all      0.999          1\n",
      "\n",
      "      Epoch    GPU_mem       loss  Instances       Size\n"
     ]
    },
    {
     "name": "stderr",
     "output_type": "stream",
     "text": [
      "\n",
      "     64/100     0.342G  4.299e-05         14        224: 100%|██████████| 415/415 [00:07<00:00, 54.45it/s]\n",
      "               classes   top1_acc   top5_acc: 100%|██████████| 26/26 [00:00<00:00, 43.85it/s] "
     ]
    },
    {
     "name": "stdout",
     "output_type": "stream",
     "text": [
      "                   all      0.999          1\n",
      "\n",
      "      Epoch    GPU_mem       loss  Instances       Size\n"
     ]
    },
    {
     "name": "stderr",
     "output_type": "stream",
     "text": [
      "\n",
      "     65/100      0.34G   1.37e-05         14        224: 100%|██████████| 415/415 [00:07<00:00, 54.20it/s]\n",
      "               classes   top1_acc   top5_acc: 100%|██████████| 26/26 [00:00<00:00, 49.03it/s] "
     ]
    },
    {
     "name": "stdout",
     "output_type": "stream",
     "text": [
      "                   all      0.999          1\n",
      "\n",
      "      Epoch    GPU_mem       loss  Instances       Size\n"
     ]
    },
    {
     "name": "stderr",
     "output_type": "stream",
     "text": [
      "\n",
      "     66/100     0.342G  2.586e-05         14        224: 100%|██████████| 415/415 [00:08<00:00, 48.49it/s]\n",
      "               classes   top1_acc   top5_acc: 100%|██████████| 26/26 [00:00<00:00, 43.48it/s]"
     ]
    },
    {
     "name": "stdout",
     "output_type": "stream",
     "text": [
      "                   all      0.999          1\n",
      "\n",
      "      Epoch    GPU_mem       loss  Instances       Size\n"
     ]
    },
    {
     "name": "stderr",
     "output_type": "stream",
     "text": [
      "\n",
      "     67/100      0.34G  1.938e-05         14        224: 100%|██████████| 415/415 [00:09<00:00, 45.60it/s]\n",
      "               classes   top1_acc   top5_acc: 100%|██████████| 26/26 [00:00<00:00, 53.89it/s]"
     ]
    },
    {
     "name": "stdout",
     "output_type": "stream",
     "text": [
      "                   all      0.999          1\n"
     ]
    },
    {
     "name": "stderr",
     "output_type": "stream",
     "text": [
      "\n"
     ]
    },
    {
     "name": "stdout",
     "output_type": "stream",
     "text": [
      "\n",
      "      Epoch    GPU_mem       loss  Instances       Size\n"
     ]
    },
    {
     "name": "stderr",
     "output_type": "stream",
     "text": [
      "     68/100      0.34G  2.558e-05         14        224: 100%|██████████| 415/415 [00:07<00:00, 52.54it/s]\n",
      "               classes   top1_acc   top5_acc: 100%|██████████| 26/26 [00:00<00:00, 56.38it/s]"
     ]
    },
    {
     "name": "stdout",
     "output_type": "stream",
     "text": [
      "                   all      0.999          1\n",
      "\n",
      "      Epoch    GPU_mem       loss  Instances       Size\n"
     ]
    },
    {
     "name": "stderr",
     "output_type": "stream",
     "text": [
      "\n",
      "     69/100      0.34G  2.833e-05         14        224: 100%|██████████| 415/415 [00:07<00:00, 54.64it/s]\n",
      "               classes   top1_acc   top5_acc: 100%|██████████| 26/26 [00:00<00:00, 37.79it/s]"
     ]
    },
    {
     "name": "stdout",
     "output_type": "stream",
     "text": [
      "                   all      0.999          1\n",
      "\n",
      "      Epoch    GPU_mem       loss  Instances       Size\n"
     ]
    },
    {
     "name": "stderr",
     "output_type": "stream",
     "text": [
      "\n",
      "     70/100     0.342G  1.928e-05         14        224: 100%|██████████| 415/415 [00:08<00:00, 51.60it/s]\n",
      "               classes   top1_acc   top5_acc: 100%|██████████| 26/26 [00:00<00:00, 34.59it/s]"
     ]
    },
    {
     "name": "stdout",
     "output_type": "stream",
     "text": [
      "                   all      0.999          1\n",
      "\n",
      "      Epoch    GPU_mem       loss  Instances       Size\n"
     ]
    },
    {
     "name": "stderr",
     "output_type": "stream",
     "text": [
      "\n",
      "     71/100     0.342G   1.29e-05         14        224: 100%|██████████| 415/415 [00:07<00:00, 54.05it/s]\n",
      "               classes   top1_acc   top5_acc: 100%|██████████| 26/26 [00:00<00:00, 42.54it/s]"
     ]
    },
    {
     "name": "stdout",
     "output_type": "stream",
     "text": [
      "                   all      0.999          1\n"
     ]
    },
    {
     "name": "stderr",
     "output_type": "stream",
     "text": [
      "\n"
     ]
    },
    {
     "name": "stdout",
     "output_type": "stream",
     "text": [
      "\n",
      "      Epoch    GPU_mem       loss  Instances       Size\n"
     ]
    },
    {
     "name": "stderr",
     "output_type": "stream",
     "text": [
      "     72/100      0.34G  1.544e-05         14        224: 100%|██████████| 415/415 [00:08<00:00, 47.07it/s]\n",
      "               classes   top1_acc   top5_acc: 100%|██████████| 26/26 [00:00<00:00, 43.37it/s]"
     ]
    },
    {
     "name": "stdout",
     "output_type": "stream",
     "text": [
      "                   all      0.999          1\n"
     ]
    },
    {
     "name": "stderr",
     "output_type": "stream",
     "text": [
      "\n"
     ]
    },
    {
     "name": "stdout",
     "output_type": "stream",
     "text": [
      "\n",
      "      Epoch    GPU_mem       loss  Instances       Size\n"
     ]
    },
    {
     "name": "stderr",
     "output_type": "stream",
     "text": [
      "     73/100      0.34G  2.172e-05         14        224: 100%|██████████| 415/415 [00:07<00:00, 52.70it/s]\n",
      "               classes   top1_acc   top5_acc: 100%|██████████| 26/26 [00:01<00:00, 23.06it/s]"
     ]
    },
    {
     "name": "stdout",
     "output_type": "stream",
     "text": [
      "                   all      0.999          1\n",
      "\n",
      "      Epoch    GPU_mem       loss  Instances       Size\n"
     ]
    },
    {
     "name": "stderr",
     "output_type": "stream",
     "text": [
      "\n",
      "     74/100     0.342G  1.958e-05         14        224: 100%|██████████| 415/415 [00:07<00:00, 53.67it/s]\n",
      "               classes   top1_acc   top5_acc: 100%|██████████| 26/26 [00:00<00:00, 39.83it/s]"
     ]
    },
    {
     "name": "stdout",
     "output_type": "stream",
     "text": [
      "                   all      0.999          1\n",
      "\n",
      "      Epoch    GPU_mem       loss  Instances       Size\n"
     ]
    },
    {
     "name": "stderr",
     "output_type": "stream",
     "text": [
      "\n",
      "     75/100     0.342G  1.903e-05         14        224: 100%|██████████| 415/415 [00:07<00:00, 52.25it/s]\n",
      "               classes   top1_acc   top5_acc: 100%|██████████| 26/26 [00:00<00:00, 41.14it/s]"
     ]
    },
    {
     "name": "stdout",
     "output_type": "stream",
     "text": [
      "                   all      0.999          1\n"
     ]
    },
    {
     "name": "stderr",
     "output_type": "stream",
     "text": [
      "\n"
     ]
    },
    {
     "name": "stdout",
     "output_type": "stream",
     "text": [
      "\n",
      "      Epoch    GPU_mem       loss  Instances       Size\n"
     ]
    },
    {
     "name": "stderr",
     "output_type": "stream",
     "text": [
      "     76/100      0.34G  1.946e-05         14        224: 100%|██████████| 415/415 [00:08<00:00, 47.85it/s]\n",
      "               classes   top1_acc   top5_acc: 100%|██████████| 26/26 [00:00<00:00, 36.99it/s] "
     ]
    },
    {
     "name": "stdout",
     "output_type": "stream",
     "text": [
      "                   all      0.999          1\n",
      "\n",
      "      Epoch    GPU_mem       loss  Instances       Size\n"
     ]
    },
    {
     "name": "stderr",
     "output_type": "stream",
     "text": [
      "\n",
      "     77/100     0.342G  1.887e-05         14        224: 100%|██████████| 415/415 [00:08<00:00, 46.64it/s]\n",
      "               classes   top1_acc   top5_acc: 100%|██████████| 26/26 [00:00<00:00, 27.23it/s] "
     ]
    },
    {
     "name": "stdout",
     "output_type": "stream",
     "text": [
      "                   all      0.999          1\n",
      "\n",
      "      Epoch    GPU_mem       loss  Instances       Size\n"
     ]
    },
    {
     "name": "stderr",
     "output_type": "stream",
     "text": [
      "\n",
      "     78/100     0.342G  1.627e-05         14        224: 100%|██████████| 415/415 [00:07<00:00, 52.23it/s]\n",
      "               classes   top1_acc   top5_acc: 100%|██████████| 26/26 [00:00<00:00, 47.96it/s]"
     ]
    },
    {
     "name": "stdout",
     "output_type": "stream",
     "text": [
      "                   all      0.999          1\n",
      "\n",
      "      Epoch    GPU_mem       loss  Instances       Size\n"
     ]
    },
    {
     "name": "stderr",
     "output_type": "stream",
     "text": [
      "\n",
      "     79/100     0.342G  1.818e-05         14        224: 100%|██████████| 415/415 [00:08<00:00, 51.18it/s]\n",
      "               classes   top1_acc   top5_acc: 100%|██████████| 26/26 [00:00<00:00, 57.59it/s] "
     ]
    },
    {
     "name": "stdout",
     "output_type": "stream",
     "text": [
      "                   all      0.999          1\n",
      "\n",
      "      Epoch    GPU_mem       loss  Instances       Size\n"
     ]
    },
    {
     "name": "stderr",
     "output_type": "stream",
     "text": [
      "\n",
      "     80/100      0.34G  1.374e-05         14        224: 100%|██████████| 415/415 [00:07<00:00, 52.66it/s]\n",
      "               classes   top1_acc   top5_acc: 100%|██████████| 26/26 [00:00<00:00, 56.67it/s]"
     ]
    },
    {
     "name": "stdout",
     "output_type": "stream",
     "text": [
      "                   all      0.999          1\n"
     ]
    },
    {
     "name": "stderr",
     "output_type": "stream",
     "text": [
      "\n"
     ]
    },
    {
     "name": "stdout",
     "output_type": "stream",
     "text": [
      "\n",
      "      Epoch    GPU_mem       loss  Instances       Size\n"
     ]
    },
    {
     "name": "stderr",
     "output_type": "stream",
     "text": [
      "     81/100     0.342G  2.275e-05         14        224: 100%|██████████| 415/415 [00:07<00:00, 52.98it/s]\n",
      "               classes   top1_acc   top5_acc: 100%|██████████| 26/26 [00:00<00:00, 37.81it/s] "
     ]
    },
    {
     "name": "stdout",
     "output_type": "stream",
     "text": [
      "                   all      0.999          1\n",
      "\n",
      "      Epoch    GPU_mem       loss  Instances       Size\n"
     ]
    },
    {
     "name": "stderr",
     "output_type": "stream",
     "text": [
      "\n",
      "     82/100      0.34G  1.799e-05         14        224: 100%|██████████| 415/415 [00:08<00:00, 49.86it/s]\n",
      "               classes   top1_acc   top5_acc: 100%|██████████| 26/26 [00:00<00:00, 34.98it/s]"
     ]
    },
    {
     "name": "stdout",
     "output_type": "stream",
     "text": [
      "                   all      0.999          1\n",
      "\n",
      "      Epoch    GPU_mem       loss  Instances       Size\n"
     ]
    },
    {
     "name": "stderr",
     "output_type": "stream",
     "text": [
      "\n",
      "     83/100      0.34G  1.945e-05         14        224: 100%|██████████| 415/415 [00:07<00:00, 53.10it/s]\n",
      "               classes   top1_acc   top5_acc: 100%|██████████| 26/26 [00:00<00:00, 39.36it/s]"
     ]
    },
    {
     "name": "stdout",
     "output_type": "stream",
     "text": [
      "                   all      0.999          1\n",
      "\n",
      "      Epoch    GPU_mem       loss  Instances       Size\n"
     ]
    },
    {
     "name": "stderr",
     "output_type": "stream",
     "text": [
      "\n",
      "     84/100     0.342G  2.818e-05         14        224: 100%|██████████| 415/415 [00:09<00:00, 45.88it/s]\n",
      "               classes   top1_acc   top5_acc: 100%|██████████| 26/26 [00:00<00:00, 43.88it/s]"
     ]
    },
    {
     "name": "stdout",
     "output_type": "stream",
     "text": [
      "                   all      0.999          1\n",
      "\n",
      "      Epoch    GPU_mem       loss  Instances       Size\n"
     ]
    },
    {
     "name": "stderr",
     "output_type": "stream",
     "text": [
      "\n",
      "     85/100     0.342G  2.382e-05         14        224: 100%|██████████| 415/415 [00:07<00:00, 53.20it/s]\n",
      "               classes   top1_acc   top5_acc: 100%|██████████| 26/26 [00:00<00:00, 43.28it/s]"
     ]
    },
    {
     "name": "stdout",
     "output_type": "stream",
     "text": [
      "                   all      0.999          1\n",
      "\n",
      "      Epoch    GPU_mem       loss  Instances       Size\n"
     ]
    },
    {
     "name": "stderr",
     "output_type": "stream",
     "text": [
      "\n",
      "     86/100     0.342G  2.895e-05         14        224: 100%|██████████| 415/415 [00:08<00:00, 51.17it/s]\n",
      "               classes   top1_acc   top5_acc: 100%|██████████| 26/26 [00:00<00:00, 36.24it/s]"
     ]
    },
    {
     "name": "stdout",
     "output_type": "stream",
     "text": [
      "                   all      0.999          1\n",
      "\n",
      "      Epoch    GPU_mem       loss  Instances       Size\n"
     ]
    },
    {
     "name": "stderr",
     "output_type": "stream",
     "text": [
      "\n",
      "     87/100     0.342G  2.144e-05         14        224: 100%|██████████| 415/415 [00:07<00:00, 53.01it/s]\n",
      "               classes   top1_acc   top5_acc: 100%|██████████| 26/26 [00:00<00:00, 41.98it/s]"
     ]
    },
    {
     "name": "stdout",
     "output_type": "stream",
     "text": [
      "                   all      0.999          1\n"
     ]
    },
    {
     "name": "stderr",
     "output_type": "stream",
     "text": [
      "\n"
     ]
    },
    {
     "name": "stdout",
     "output_type": "stream",
     "text": [
      "\n",
      "      Epoch    GPU_mem       loss  Instances       Size\n"
     ]
    },
    {
     "name": "stderr",
     "output_type": "stream",
     "text": [
      "     88/100      0.34G  2.067e-05         14        224: 100%|██████████| 415/415 [00:08<00:00, 48.63it/s]\n",
      "               classes   top1_acc   top5_acc: 100%|██████████| 26/26 [00:00<00:00, 45.81it/s]"
     ]
    },
    {
     "name": "stdout",
     "output_type": "stream",
     "text": [
      "                   all      0.999          1\n",
      "\n",
      "      Epoch    GPU_mem       loss  Instances       Size\n"
     ]
    },
    {
     "name": "stderr",
     "output_type": "stream",
     "text": [
      "\n",
      "     89/100      0.34G  1.819e-05         14        224: 100%|██████████| 415/415 [00:09<00:00, 44.38it/s]\n",
      "               classes   top1_acc   top5_acc: 100%|██████████| 26/26 [00:00<00:00, 54.69it/s] "
     ]
    },
    {
     "name": "stdout",
     "output_type": "stream",
     "text": [
      "                   all      0.999          1\n",
      "\n",
      "      Epoch    GPU_mem       loss  Instances       Size\n"
     ]
    },
    {
     "name": "stderr",
     "output_type": "stream",
     "text": [
      "\n",
      "     90/100     0.342G  1.863e-05         14        224: 100%|██████████| 415/415 [00:08<00:00, 49.83it/s]\n",
      "               classes   top1_acc   top5_acc: 100%|██████████| 26/26 [00:00<00:00, 43.38it/s]"
     ]
    },
    {
     "name": "stdout",
     "output_type": "stream",
     "text": [
      "                   all      0.999          1\n",
      "Stopping training early as no improvement observed in last 50 epochs. Best results observed at epoch 40, best model saved as best.pt.\n",
      "To update EarlyStopping(patience=50) pass a new patience value, i.e. `patience=300` or use `patience=0` to disable EarlyStopping.\n"
     ]
    },
    {
     "name": "stderr",
     "output_type": "stream",
     "text": [
      "\n"
     ]
    },
    {
     "name": "stdout",
     "output_type": "stream",
     "text": [
      "\n",
      "90 epochs completed in 0.347 hours.\n",
      "Optimizer stripped from runs/classify/train2/weights/last.pt, 3.0MB\n",
      "Optimizer stripped from runs/classify/train2/weights/best.pt, 3.0MB\n",
      "\n",
      "Validating runs/classify/train2/weights/best.pt...\n",
      "Ultralytics YOLOv8.0.222 🚀 Python-3.9.12 torch-1.13.1+cu117 CUDA:0 (NVIDIA GeForce RTX 3080, 10017MiB)\n",
      "YOLOv8n-cls summary (fused): 73 layers, 1437442 parameters, 0 gradients, 3.3 GFLOPs\n",
      "\u001b[34m\u001b[1mtrain:\u001b[0m /hdd/face_anti_spoofing/dataset/split_data/train... found 6638 images in 2 classes ✅ \n",
      "\u001b[34m\u001b[1mval:\u001b[0m /hdd/face_anti_spoofing/dataset/split_data/val... found 829 images in 2 classes ✅ \n",
      "\u001b[34m\u001b[1mtest:\u001b[0m /hdd/face_anti_spoofing/dataset/split_data/test... found 832 images in 2 classes ✅ \n"
     ]
    },
    {
     "name": "stderr",
     "output_type": "stream",
     "text": [
      "               classes   top1_acc   top5_acc: 100%|██████████| 26/26 [00:01<00:00, 21.08it/s]\n"
     ]
    },
    {
     "name": "stdout",
     "output_type": "stream",
     "text": [
      "                   all          1          1\n",
      "Speed: 0.1ms preprocess, 0.3ms inference, 0.0ms loss, 0.0ms postprocess per image\n",
      "Results saved to \u001b[1mruns/classify/train2\u001b[0m\n",
      "Results saved to \u001b[1mruns/classify/train2\u001b[0m\n"
     ]
    },
    {
     "data": {
      "text/plain": [
       "ultralytics.utils.metrics.ClassifyMetrics object with attributes:\n",
       "\n",
       "confusion_matrix: <ultralytics.utils.metrics.ConfusionMatrix object at 0x7fab44674070>\n",
       "curves: []\n",
       "curves_results: []\n",
       "fitness: 1.0\n",
       "keys: ['metrics/accuracy_top1', 'metrics/accuracy_top5']\n",
       "results_dict: {'metrics/accuracy_top1': 1.0, 'metrics/accuracy_top5': 1.0, 'fitness': 1.0}\n",
       "save_dir: PosixPath('runs/classify/train2')\n",
       "speed: {'preprocess': 0.12559022201703743, 'inference': 0.32052861479424455, 'loss': 0.00020735801632355437, 'postprocess': 0.00018866415909604947}\n",
       "task: 'classify'\n",
       "top1: 1.0\n",
       "top5: 1.0"
      ]
     },
     "execution_count": 5,
     "metadata": {},
     "output_type": "execute_result"
    }
   ],
   "source": [
    "# Load a model\n",
    "model = YOLO('yolov8n-cls.pt')  # load a pretrained model or training\n",
    "\n",
    "# Train the model\n",
    "model.train(data='./dataset/split_data/', epochs=100)"
   ]
  },
  {
   "cell_type": "markdown",
   "id": "f1653894",
   "metadata": {},
   "source": [
    "# PREDICTION"
   ]
  },
  {
   "cell_type": "code",
   "execution_count": 46,
   "id": "373e9d84",
   "metadata": {},
   "outputs": [
    {
     "name": "stdout",
     "output_type": "stream",
     "text": [
      "Predicted Label: real\n"
     ]
    }
   ],
   "source": [
    "from ultralytics import YOLO\n",
    "\n",
    "# Load a model\n",
    "\n",
    "model = YOLO('./runs/classify/train2/weights/best.pt')  # load a custom model\n",
    "\n",
    "# Predict with the model\n",
    "results = model('./dataset/split_data/test/real/FT720P_id1_s0_30.png', verbose=False )  # predict on an image\n",
    "for result in results:\n",
    "    probs = result.probs  # Probs object for classification outputs\n",
    "    if probs.top1 == 1:\n",
    "        print(f\"Predicted Label: {model.names[probs.top1]}\")\n",
    "    elif probs.top1 == 0:\n",
    "        print(f\"Predicted Label: {model.names[probs.top1]}\")"
   ]
  },
  {
   "cell_type": "code",
   "execution_count": 45,
   "id": "fd9253ea",
   "metadata": {},
   "outputs": [
    {
     "name": "stdout",
     "output_type": "stream",
     "text": [
      "Predicted Label: spoof\n"
     ]
    }
   ],
   "source": [
    "# Predict with the model\n",
    "results = model('./dataset/split_data/test/spoof/FT720P_G780_REDMI4X_id1_s0_105.png', verbose=False )  # predict on an image\n",
    "for result in results:\n",
    "    probs = result.probs  # Probs object for classification outputs\n",
    "    if probs.top1 == 1:\n",
    "        print(f\"Predicted Label: {model.names[probs.top1]}\")\n",
    "    elif probs.top1 == 0:\n",
    "        print(f\"Predicted Label: {model.names[probs.top1]}\")"
   ]
  }
 ],
 "metadata": {
  "kernelspec": {
   "display_name": "Python 3 (ipykernel)",
   "language": "python",
   "name": "python3"
  },
  "language_info": {
   "codemirror_mode": {
    "name": "ipython",
    "version": 3
   },
   "file_extension": ".py",
   "mimetype": "text/x-python",
   "name": "python",
   "nbconvert_exporter": "python",
   "pygments_lexer": "ipython3",
   "version": "3.9.12"
  }
 },
 "nbformat": 4,
 "nbformat_minor": 5
}
